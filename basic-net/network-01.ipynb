{
 "cells": [
  {
   "cell_type": "code",
   "execution_count": 66,
   "id": "7a1b2b17-42e3-4678-b750-2150ac85b5d4",
   "metadata": {},
   "outputs": [],
   "source": [
    "# pip install jupyter ipympl"
   ]
  },
  {
   "cell_type": "code",
   "execution_count": 1,
   "id": "e1f40e3f-a2cd-4f47-9d57-14c4f5f2aa7d",
   "metadata": {},
   "outputs": [],
   "source": [
    "import numpy as np\n",
    "import random\n",
    "import sklearn.model_selection as model_selection\n",
    "import scipy.io.arff as arff\n",
    "import pandas as pd\n",
    "%matplotlib widget\n",
    "import matplotlib.pyplot as plt"
   ]
  },
  {
   "cell_type": "markdown",
   "id": "27b6b799-f64f-4547-b509-3f4979e0fcac",
   "metadata": {},
   "source": [
    "# Load MINST data"
   ]
  },
  {
   "cell_type": "code",
   "execution_count": 22,
   "id": "6faf5121-437d-4afd-af73-06e25eaef9b2",
   "metadata": {},
   "outputs": [],
   "source": [
    "arffData = arff.loadarff(\"../../datasets/mnist_784.arff\")"
   ]
  },
  {
   "cell_type": "code",
   "execution_count": 23,
   "id": "c2cdd259-843e-4b5a-a98c-2b1b371b7968",
   "metadata": {},
   "outputs": [],
   "source": [
    "pdata = pd.DataFrame(arffData[0])"
   ]
  },
  {
   "cell_type": "code",
   "execution_count": 24,
   "id": "051e38e0-d1b9-446b-9ed9-9b5807fc956b",
   "metadata": {},
   "outputs": [],
   "source": [
    "data, target = pdata[pdata.columns[:-1]], pdata[pdata.columns[-1]]"
   ]
  },
  {
   "cell_type": "code",
   "execution_count": 25,
   "id": "593f4630-6a5f-4866-b143-f21870bcda0b",
   "metadata": {},
   "outputs": [],
   "source": [
    "(rest_data, x_test, rest_target, y_test) = model_selection.train_test_split(data,target, test_size=10000,shuffle=True, random_state=24, stratify=target)\n",
    "(x_train, x_validate, y_train, y_validate) = model_selection.train_test_split(rest_data,rest_target, test_size=10000,shuffle=True, random_state=24, stratify=rest_target)"
   ]
  },
  {
   "cell_type": "code",
   "execution_count": 26,
   "id": "eb8df217-0013-49d0-b0ad-d6e7fd61c3cd",
   "metadata": {},
   "outputs": [],
   "source": [
    "def gety(y):\n",
    "    z = np.zeros((10,1))\n",
    "    z[int(y)] = 1.0\n",
    "    return z"
   ]
  },
  {
   "cell_type": "code",
   "execution_count": 27,
   "id": "b555ba81-0689-4492-aa30-736cfb4a1af4",
   "metadata": {},
   "outputs": [],
   "source": [
    "training_set = [(x.reshape(784,1), gety(y)) for x,y in zip(x_train.values, y_train)]\n",
    "validation_set = [(x.reshape(784,1), gety(y)) for x,y in zip(x_validate.values, y_validate)]\n",
    "test_set = [(x.reshape(784,1), gety(y)) for x,y in zip(x_test.values, y_test)]"
   ]
  },
  {
   "cell_type": "markdown",
   "id": "8fb5c2b9-360a-43e8-82c7-161d9631886b",
   "metadata": {},
   "source": [
    "# Network defination"
   ]
  },
  {
   "cell_type": "code",
   "execution_count": 59,
   "id": "c47c10aa-5af0-416b-8c31-3b590f00bda3",
   "metadata": {},
   "outputs": [],
   "source": [
    "class Network(object):\n",
    "    def __init__(self, sizes):\n",
    "        self.sizes = sizes\n",
    "        self.weights = [np.random.randn(x,y) for x,y in zip(sizes[1:], sizes[:-1])]\n",
    "        self.biases = [np.random.randn(x,1) for x in sizes[1:]]\n",
    "\n",
    "    def feedforward(self, a):\n",
    "        for (w, b) in zip(self.weights, self.biases):\n",
    "            a = sigmoid(w @ a + b)\n",
    "\n",
    "        return a\n",
    "\n",
    "    def evaluate(self, validation_set):\n",
    "        cost = 0\n",
    "        correct = 0\n",
    "        m = len(validation_set)\n",
    "        for x,y in validation_set:\n",
    "            a = self.feedforward(x)\n",
    "            d1 = np.argmax(y)\n",
    "            d2 = np.argmax(a)\n",
    "            cost += (d1 - d2)**2\n",
    "            if d1 == d2:\n",
    "               correct += 1 \n",
    "        loss = cost / (2*m)\n",
    "        percent = correct * 100 / m\n",
    "        \n",
    "        return loss, percent\n",
    "\n",
    "    def SGD(self, training_set, epochs, mini_batch_size, eta, validation_set = None, lossAxis=None, percentAxis=None):\n",
    "        n = len(training_set)\n",
    "        graph_epochs = []\n",
    "        graph_loss = []\n",
    "        graph_percent = []\n",
    "\n",
    "        for epoch in range(epochs):\n",
    "            np.random.shuffle(training_set)\n",
    "            \n",
    "            mini_batches = [training_set[k: k+mini_batch_size] for k in range(0, n, mini_batch_size)]\n",
    "            self.mini_batch_update(mini_batches, eta)\n",
    "\n",
    "            if validation_set != None:\n",
    "                loss, percent = self.evaluate(validation_set)\n",
    "\n",
    "                graph_epochs.append(epoch+1)\n",
    "                graph_loss.append(loss)\n",
    "                graph_percent.append(percent)\n",
    "                \n",
    "                if lossAxis:\n",
    "                    pltsin(lossAxis, graph_epochs, graph_loss)\n",
    "                if percentAxis:\n",
    "                    pltsin(percentAxis, graph_epochs, graph_percent)\n",
    "                \n",
    "                print(\"Epoch {0} completed. Loss: {1}\".format(epoch+1, loss))\n",
    "            else:\n",
    "                print(\"Epoch {0} completed.\".format(epoch+1))\n",
    "\n",
    "    def mini_batch_update(self, mini_batches, eta):\n",
    "        for mini_batch in mini_batches:\n",
    "            nabla_w = [np.zeros(w.shape) for w in self.weights]\n",
    "            nabla_b = [np.zeros(b.shape) for b in self.biases]\n",
    "            \n",
    "            for x, y in mini_batch:\n",
    "                a = x\n",
    "                ass = [a]\n",
    "                zss = []\n",
    "                delta_nabla_w = [np.zeros(w.shape) for w in self.weights]\n",
    "                delta_nabla_b = [np.zeros(b.shape) for b in self.biases]\n",
    "\n",
    "                for w,b in zip(self.weights, self.biases):\n",
    "                    z = w @ a + b\n",
    "                    zss.append(z)\n",
    "\n",
    "                    a = sigmoid(z)\n",
    "                    ass.append(a)\n",
    "\n",
    "                # backprop\n",
    "                error = None\n",
    "                for l in range(-1, -len(self.sizes), -1):\n",
    "                    if l == -1:\n",
    "                        error = (ass[l] - y) * sigmoid_prime(zss[l])\n",
    "                    else:\n",
    "                        error = (self.weights[l+1].transpose() @ error) * sigmoid_prime(zss[l])\n",
    "\n",
    "                    delta_nabla_w[l] = error @ ass[l-1].transpose()\n",
    "                    delta_nabla_b[l] = error\n",
    "\n",
    "                nabla_w = [nw + dnw for nw, dnw in zip(nabla_w, delta_nabla_w)]\n",
    "                nabla_b = [nb + dnb for nb, dnb in zip(nabla_b, delta_nabla_b)]\n",
    "\n",
    "            # average out nablas, multiply them by learning rate and adjust weights and biases\n",
    "            m = len(mini_batch)\n",
    "            self.weights = [w + nw * -eta/m for w, nw in zip(self.weights, nabla_w)]\n",
    "            self.biases = [b + nb * -eta/m for b, nb in zip(self.biases, nabla_b)]\n",
    "\n",
    "def sigmoid(z):\n",
    "    return 1.0 / (1.0 + np.exp(-z))\n",
    "\n",
    "def sigmoid_prime(z):\n",
    "    return sigmoid(z) * (1 - sigmoid(z))\n",
    "\n",
    "    "
   ]
  },
  {
   "cell_type": "markdown",
   "id": "87aa7350-3da9-494f-99bc-133a37bfe8aa",
   "metadata": {},
   "source": [
    "# Run"
   ]
  },
  {
   "cell_type": "code",
   "execution_count": 60,
   "id": "fa983be7-281f-4e8e-836e-86144e72788f",
   "metadata": {},
   "outputs": [],
   "source": [
    "def pltsin(ax, x, y, colors=['b']):\n",
    "    if ax.lines:\n",
    "        for line in ax.lines:\n",
    "            line.set_xdata(x)\n",
    "            line.set_ydata(y)\n",
    "    else:\n",
    "        for color in colors:\n",
    "            ax.plot(x, y, color)\n",
    "    fig.canvas.draw()"
   ]
  },
  {
   "cell_type": "code",
   "execution_count": 64,
   "id": "f99e3c1b-275d-4a94-9030-eb5df6fd3aca",
   "metadata": {},
   "outputs": [
    {
     "data": {
      "application/vnd.jupyter.widget-view+json": {
       "model_id": "03ba68f68e7b402bb68c6d81a40631b2",
       "version_major": 2,
       "version_minor": 0
      },
      "image/png": "[encoded data removed]",
      "text/html": [
       "\n",
       "            <div style=\"display: inline-block;\">\n",
       "                <div class=\"jupyter-widgets widget-label\" style=\"text-align: center;\">\n",
       "                    Figure\n",
       "                </div>\n",
       "                <img src='data:image/png;base64,iVBORw0KGgoAAAANSUhEUgAAAoAAAAHgCAYAAAA10dzkAAAAOnRFWHRTb2Z0d2FyZQBNYXRwbG90bGliIHZlcnNpb24zLjEwLjAsIGh0dHBzOi8vbWF0cGxvdGxpYi5vcmcvlHJYcgAAAAlwSFlzAAAPYQAAD2EBqD+naQAAOo9JREFUeJzt3XtcVHXi//H3CDIiyiCkXAqU1MRLWl4i0tZdJc18lKbtZsvuslpZiqbSZWULzdRQdyszDbPtq93Msl0rK3WVii4qEt5bRS1XMAUqY0ZURoPz+0ObnwS2asCZ4byej8d5PJzPmct7fHQ+vT23sRmGYQgAAACW0cjsAAAAAKhfFEAAAACLoQACAABYDAUQAADAYiiAAAAAFkMBBAAAsBgKIAAAgMVQAAEAACyGAggAAGAxFEAAAACLoQACAABYDAUQAADAYiiAAAAAFkMBBAAAsBgKIAAAgMVQAAEAACyGAggAAGAxFEAAAACLoQACAABYDAUQAADAYiiAAAAAFkMBBAAAsBgKIAAAgMVQAAEAACyGAggAAGAxFEAAAACLoQACAABYDAUQAADAYiiAAAAAFkMBBAAAsBgKIAAAgMVQAAEAACyGAggAAGAxFEAAAACLoQACAABYDAUQAADAYiiAAAAAFkMBBAAAsBgKIAAAgMVQAAEAACyGAggAAGAxFEAAAACLoQACAABYDAUQAADAYiiAAAAAFkMBBAAAsBgKIAAAgMVQAAEAACyGAggAAGAxFEAAAACLoQACAABYDAUQAADAYhpsAfz444918803KyoqSjabTW+99VaV9YZhaMqUKYqMjFRgYKASExO1d+9ec8ICqBe1MS8cOXJESUlJCg4OVkhIiO68806VlZXV47cAgF+uwRbAY8eOqVu3blqwYEGN6+fMmaN58+Zp4cKFysnJUVBQkAYOHKjy8vJ6TgqgvtTGvJCUlKQvvvhCa9eu1bvvvquPP/5Yo0ePrq+vAAC1wmYYhmF2iLpms9m0YsUKDR06VNLpf+VHRUXp/vvv1wMPPCBJcjqdCg8P15IlSzRixAgT0wKoDxczL+zatUudOnVSbm6uevbsKUlavXq1brrpJh08eFBRUVFmfR0AuCANdg/gz9m/f7+KioqUmJjoGXM4HIqPj9eGDRtMTAbALOczL2zYsEEhISGe8idJiYmJatSokXJycuo9MwBcLH+zA5ihqKhIkhQeHl5lPDw83LOuJm63W2632/O4srJSR44cUVhYmGw2W92EBXBOhmHo6NGjioqKUqNGv+zfs+czLxQVFalVq1ZV1vv7+ys0NJS5A/AhtTl3+CpLFsCLlZGRoWnTppkdA8BPFBYW6rLLLjM7xjkxdwDeydvnjrpkyQIYEREhSSouLlZkZKRnvLi4WFddddU5X5eWlqbU1FTPY6fTqZiYGBUWFio4OLjO8gKomcvlUnR0tJo3b/6L3+t85oWIiAiVlJRUed0PP/ygI0eOeF5fE+YOwLvU5tzhqyxZAGNjYxUREaGsrCzPxO5yuZSTk6MxY8ac83V2u112u73aeHBwMJM4YKLaOIx6PvNCQkKCSktLlZeXpx49ekiSPvjgA1VWVio+Pv6c783cAXgnK5+C0WALYFlZmfbt2+d5vH//fm3dulWhoaGKiYnRxIkTNWPGDLVv316xsbFKT09XVFSU54pAAA3PL50XOnbsqBtvvFF33323Fi5cqFOnTmncuHEaMWIEVwAD8C1GA/Xhhx8akqotycnJhmEYRmVlpZGenm6Eh4cbdrvd6N+/v5Gfn39Bn+F0Og1JhtPprINvAOB/udBtsDbmhe+++8644447jGbNmhnBwcHGyJEjjaNHj9ZpbgC1i23QMCxxH8C64nK55HA45HQ6OYwDmMBXt0FfzQ00FGyDFr0PIAAAgJVRAAEAACyGAggAAGAxFEAAAACLoQACAABYDAUQAADAYiiAAAAAFkMBBAAAsBgKIAAAgMVQAAEAACyGAggAAGAxFEAAAACLoQACAABYDAUQAADAYiiAAAAAFkMBBAAAsBgKIAAAgMVQAAEAACyGAggAAGAxFEAAAACLoQACAABYDAUQAADAYiiAAAAAFkMBBAAAsBgKIAAAgMVQAAEAACyGAggAAGAxFEAAAACLoQACAABYDAUQAADAYiiAAAAAFkMBBAAAsBgKIAAAgMVQAAEAACyGAggAAGAxFEAAAACLoQACAABYDAUQAADAYiiAAAAAFkMBBAAAsBgKIAAAgMVQAAEAACyGAggAZzl69KgmTpyo1q1bKzAwUNddd51yc3M96w3D0JQpUxQZGanAwEAlJiZq7969JiYGgAtHAQSAs9x1111au3atXn75Ze3YsUMDBgxQYmKivv76a0nSnDlzNG/ePC1cuFA5OTkKCgrSwIEDVV5ebnJyADh/NsMwDLND+CqXyyWHwyGn06ng4GCz4wCWU9vb4IkTJ9S8eXO9/fbbGjx4sGe8R48eGjRokKZPn66oqCjdf//9euCBByRJTqdT4eHhWrJkiUaMGGFKbgAXhm2QPYAA4PHDDz+ooqJCTZo0qTIeGBioTz/9VPv371dRUZESExM96xwOh+Lj47Vhw4Zzvq/b7ZbL5aqyAICZKIAAcEbz5s2VkJCg6dOn69ChQ6qoqNArr7yiDRs26PDhwyoqKpIkhYeHV3ldeHi4Z11NMjIy5HA4PEt0dHSdfg8A+F8ogABwlpdfflmGYejSSy+V3W7XvHnzdMcdd6hRo4ufLtPS0uR0Oj1LYWFhLSYGgAtHAQSAs7Rt21bZ2dkqKytTYWGhNm3apFOnTunyyy9XRESEJKm4uLjKa4qLiz3ramK32xUcHFxlAQAzUQABoAZBQUGKjIzU999/rzVr1mjIkCGKjY1VRESEsrKyPM9zuVzKyclRQkKCiWkB4ML4mx0AALzJmjVrZBiGOnTooH379unBBx9UXFycRo4cKZvNpokTJ2rGjBlq3769YmNjlZ6erqioKA0dOtTs6ABw3iiAAHAWp9OptLQ0HTx4UKGhoRo+fLhmzpypxo0bS5IeeughHTt2TKNHj1Zpaan69Omj1atXV7tyGAC8GfcB/AW4jxBgLl/dBn01N9BQsA1yDiAAAIDlUAABAAAshgIIAABgMRRAAAAAi6EAAgAAWAwFEAAAwGIogAAAABZDAQQAALAYCiAAAIDFUAABAAAsxrIFsKKiQunp6YqNjVVgYKDatm2r6dOni1/GAwAADZ2/2QHMMnv2bGVmZurFF19U586d9fnnn2vkyJFyOBy67777zI4HAABQZyxbANevX68hQ4Zo8ODBkqQ2bdrotdde06ZNm0xOBgAAULcsewj4uuuuU1ZWlvbs2SNJ2rZtmz799FMNGjTI5GQAAAB1y7J7ACdPniyXy6W4uDj5+fmpoqJCM2fOVFJS0jlf43a75Xa7PY9dLld9RAUAAKhVlt0D+MYbb+jVV1/V0qVLtXnzZr344ov6+9//rhdffPGcr8nIyJDD4fAs0dHR9ZgYAACgdtgMi172Gh0drcmTJyslJcUzNmPGDL3yyivavXt3ja+paQ9gdHS0nE6ngoOD6zwzgKpcLpccDofPbYO+mhtoKNgGLXwI+Pjx42rUqOoOUD8/P1VWVp7zNXa7XXa7va6jAQAA1CnLFsCbb75ZM2fOVExMjDp37qwtW7boySef1KhRo8yOBgAAUKcsWwCfeeYZpaena+zYsSopKVFUVJTuueceTZkyxexoAAAAdcqy5wDWBs4hAMzlq9ugr+YGGgq2QQtfBQwAAGBVFEAAAACLoQACAABYDAUQAADAYiiAAAAAFkMBBAAAsBgKIAAAgMVQAAEAACyGAggAAGAxFEAAAACLoQACAABYDAUQAADAYiiAAAAAFkMBBAAAsBgKIAAAgMVQAAEAACyGAggAAGAxFEAAAACLoQACAABYDAUQAADAYiiAAAAAFkMBBIAzKioqlJ6ertjYWAUGBqpt27aaPn26DMPwPMcwDE2ZMkWRkZEKDAxUYmKi9u7da2JqALhwFEAAOGP27NnKzMzU/PnztWvXLs2ePVtz5szRM88843nOnDlzNG/ePC1cuFA5OTkKCgrSwIEDVV5ebmJyALgw/mYHAABvsX79eg0ZMkSDBw+WJLVp00avvfaaNm3aJOn03r+5c+fqkUce0ZAhQyRJL730ksLDw/XWW29pxIgRpmUHgAvBHkAAOOO6665TVlaW9uzZI0natm2bPv30Uw0aNEiStH//fhUVFSkxMdHzGofDofj4eG3YsOGc7+t2u+VyuaosAGAm9gACwBmTJ0+Wy+VSXFyc/Pz8VFFRoZkzZyopKUmSVFRUJEkKDw+v8rrw8HDPuppkZGRo2rRpdRccAC4QewAB4Iw33nhDr776qpYuXarNmzfrxRdf1N///ne9+OKLv+h909LS5HQ6PUthYWEtJQaAi8MeQAA448EHH9TkyZM95/JdeeWVOnDggDIyMpScnKyIiAhJUnFxsSIjIz2vKy4u1lVXXXXO97Xb7bLb7XWaHQAuBHsAAeCM48ePq1GjqtOin5+fKisrJUmxsbGKiIhQVlaWZ73L5VJOTo4SEhLqNSsA/BLsAQSAM26++WbNnDlTMTEx6ty5s7Zs2aInn3xSo0aNkiTZbDZNnDhRM2bMUPv27RUbG6v09HRFRUVp6NCh5oYHgAtAAQSAM5555hmlp6dr7NixKikpUVRUlO655x5NmTLF85yHHnpIx44d0+jRo1VaWqo+ffpo9erVatKkiYnJAeDC2Iyzb3GPC+JyueRwOOR0OhUcHGx2HMByfHUb9NXcQEPBNsg5gAAAAJZDAQQAALAYCiAAAIDFUAABAAAshgIIAABgMRRAAAAAi6EAAgAAWAwFEAAAwGIogAAAABZDAQQAALAYCiAAAIDFUAABAAAshgIIAABgMRRAAAAAi6EAAgAAWAwFEAAAwGIogAAAABZDAQQAALAYCiAAAIDFUAABeLWCggIZhlFt3DAMFRYWmpAIAHwfBRCAV4uNjdU333xTbfzIkSPq2rWrCYkAwPdRAAF4NcMwZLPZqo2XlZWpSZMmJiQCAN/nb3YAAKhJamqqJMlmsyk9PV1Nmzb1rKuoqFBOTo6uvPJK5eTkmBURAHwWBRCAV9qyZYuk03sAd+zYoYCAAM+6gIAAdevWTffee6+6d+9uVkQA8FkUQABe6cMPP5QkjRw5Uk8//bSCg4OrPcflctV3LABoECiAALza4sWLzY4AAA0OBRCAVzt27JhmzZqlrKwslZSUqLKy0rPu7D8DAM4fBRCAV7vrrruUnZ2tP/7xj4qMjKxyRXB5ebkmT55sYjoA8E0UQABebdWqVXrvvffUu3fvautcLhcFEAAuAvcBBODVWrRoodDQULNjAECDQgEE4NWmT5+uKVOm6Pjx42ZHAYAGw9KHgL/++mv95S9/0apVq3T8+HG1a9dOixcvVs+ePc2OBuCMJ554Ql9++aXCw8PVpk0bNW7c2LOuoqLCxGQA4LssWwC///579e7dW7/5zW+0atUqtWzZUnv37lWLFi3MjgbgLEOHDj3nOrfbre3bt9dfGABoIGyGYRhmhzDD5MmT9dlnn+mTTz656PdwuVxyOBxyOp013qQWQN3y1W3QV3MDDQXboIXPAXznnXfUs2dP/fa3v1WrVq109dVX6/nnn//Z17jdbrlcrioLgLpXWlqqf/zjH0pLS9ORI0ckSZs3b9ahQ4dMTgYAvsmyh4C/+uorZWZmKjU1VX/961+Vm5ur++67TwEBAUpOTq7xNRkZGZo2bVo9JwWsbfv27UpMTJTD4dB///tf3X333QoNDdW//vUvffnll2bHAwCfZNlDwAEBAerZs6fWr1/vGbvvvvuUm5urDRs21Pgat9stt9vteexyuRQdHW3pXchAXUtMTFT37t01Z84cNW/eXNu2bdPll1+u9evX64477lBBQYHPbYMcfgLMxTZo4UPAkZGR6tSpU5Wxjh07qqCg4JyvsdvtCg4OrrIAqFu5ubm65557qo1feumlKi4uNiERAPg+yxbA3r17Kz8/v8rYnj171Lp1a5MSAaiJ3W6v8XzbPXv26JJLLjEhEQD4PssWwEmTJmnjxo16/PHHtW/fPi1dulSLFi1SSkqK2dEAnOWWW27RY489plOnTkmSbDabCgoK9Je//EW33HKLyekAwDdZtgD26tVLK1as0GuvvaYuXbpo+vTpmjt3rpKSksyOBuAsTzzxhMrKytSqVSudOHFCffv2Vbt27dS8eXOlp6ebHQ8AfJJlLwKpDZxECtSfzz77TNu2bVNZWZm6d++uxMREn90GfTU30FCwDVp4DyAA39K7d2+NHTtWDz30kBITE+vkM9q0aSObzVZt+fHUkPLycqWkpCgsLEzNmjXT8OHDuRAFgE+iAALwavfdd5/mzZtXbXz+/PmaPHlyrX5Wbm6uDh8+7FnWrl0rSfrtb38r6fS5wytXrtTy5cuVnZ2tQ4cOadiwYbWaAQDqg2VvBA3AN/zzn//UO++8U238uuuuU0ZGRq1+VsuWLas8njVrltq2bau+ffvK6XTqhRde0NKlS9WvXz9J0uLFi9WxY0dt3LhR1157ba1mAYC6xB5AAF7tu+++k8PhqDYeHBys7777rs4+9+TJk3rllVc0atQo2Ww25eXl6dSpU1UOP8fFxSkmJuacN4//ET8jCcDbUAABeLV27dpp9erV1cZXrVqlNm3a1NnnvvXWWyotLdWf//xnSVJRUZECAgIUEhJS5Xnh4eEqKir62ffKyMiQw+HwLNHR0XWUGgDOD4eAAXi11NRUjRs3Tt98843n0GtWVpaeeOIJZWRkaMKECXXyuS+88IIGDRqkqKioX/xeaWlpSk1N9Tz+8WckAcAsFEAAXm3UqFFyu92aOXOmpk+fLun01bqZmZkaOnRonRTAAwcOaN26dfrXv/7lGYuIiNDJkydVWlpaZS9gcXGxIiIifvb97Ha77HZ7recEgIvFIWAAXuuHH37QSy+9pGHDhungwYMqLi6Wy+XSV199pT/96U919rmLFy9Wq1atNHjwYM9Yjx491LhxY2VlZXnG8vPzVVBQoISEhDrLAgB1gT2AALyWv7+/7r33Xu3atUtS9at060JlZaUWL16s5ORk+fv//ynS4XDozjvvVGpqqkJDQxUcHKzx48crISGBK4AB+BwKIACvds0112jLli1q3bp1vXzeunXrVFBQoFGjRlVb99RTT6lRo0YaPny43G63Bg4cqGeffbZecgFAbaIAAvBqY8eO1f3336+DBw+qR48eCgoK8qwrKyur9c8bMGCAzvULmU2aNNGCBQu0YMGCWv9cAKhPFEAAXm3EiBGSTv8iyI9sNpsMw5DNZjMrFgD4NAogAK+2f//+c647evSorrzyynpMAwANAwUQgFf7uXP/+EUNALg43AYGgNd7+eWX1bt3b0VFRenAgQOSpLlz5+q9994zORkA+CYKIACvlpmZqdTUVN10000qLS1VRUWFJCkkJESZmZkmpwMA30QBBODVnnnmGT3//PN6+OGH5efn5xnv2bOnvvjiCxOTAYDvogAC8Gr79+/X1VdfXW3cbrfr+PHjJiQCAN9HAQTg1WJjY7V169Zq46tXr9YVV1xR/4EAoAHwugJYWFiogwcPeh5v2rRJEydO1KJFi0xMBcAsqampSklJ0euvvy7DMLRp0ybNnDlTaWlpmjBhgtnxAMAneV0B/P3vf68PP/xQklRUVKQbbrhBmzZt0sMPP6zHHnvM5HQA6ttdd92l2bNn65FHHtHx48f1+9//XpmZmXr66ad12223mR0PAHyS1xXAnTt36pprrpEkvfHGG+rSpYvWr1+vV199VUuWLDE3HABTJCUlae/evSorK1NRUZEOHjyoO++80+xYAOCzvO5G0KdOnZLdbpd0+kfZb7nlFklSXFycDh8+bGY0ACYqKSlRfn6+pNM/BdeyZUuTEwGA7/K6PYCdO3fWwoUL9cknn2jt2rW68cYbJUmHDh1SWFiYyekA1LejR4/qj3/8o6KiotS3b1/17dtXUVFR+sMf/iCn02l2PADwSV5XAGfPnq3nnntOv/71r3XHHXeoW7dukqR33nnHc2gYgHXcddddysnJ0XvvvafS0lKVlpbq3Xff1eeff66JEyeaHQ8AfJLNMAzD7BA/VVFRIZfLpRYtWnjG/vvf/6pp06Zq1aqVicmqcrlccjgccjqdCg4ONjsO0CAFBQVpzZo16tOnT5XxTz75RDfeeKOOHz/uc9sgcwdgLrZBL9wDeOLECbndbk/5O3DggObOnav8/HyvKn8A6kdYWJgcDke1cYfDoZCQkPoPBAANgNcVwCFDhuill16SJJWWlio+Pl5PPPGEhg4dyu9+Ahb0yCOPKDU1VUVFRZ6xoqIiPfjgg3rwwQdNTAYAvsvrrgLevHmznnrqKUnSm2++qfDwcG3ZskX//Oc/NWXKFI0ZM8bkhADqU2Zmpvbt26eYmBjFxMRIkgoKCmS32z2l8Prrr5efn582b95sZlQA8BleVwCPHz+u5s2bS5L+/e9/a9iwYWrUqJGuvfZaHThwwOR0AOrb0KFDz7nO7XZr+/btGjx4sOf2UQCA/83rLgLp2rWr7rrrLt16663q0qWLVq9erYSEBOXl5Wnw4MFVDgOZjZNIAXP56jboq7mBhoJt0AvPAZwyZYoeeOABtWnTRtdcc40SEhIknd4bePXVV5ucDgAAwPd53SHg2267TX369NHhw4c99wCUpP79++vWW281MRkAAEDD4HUFUJIiIiIUERGhgwcPSpIuu+wybgINAABQS7zuEHBlZaUee+wxORwOtW7dWq1bt1ZISIimT5+uyspKs+MBAAD4PK8rgA8//LDmz5+vWbNmacuWLdqyZYsef/xxPfPMM0pPTzc7HoB69thjj+n48ePVxk+cOKHZs2ebkAgAfJ/XXQUcFRWlhQsX6pZbbqky/vbbb2vs2LH6+uuvTUpWHVcRAXXPz89Phw8frvZLQN99951atWqlyspKn9sGmTsAc7ENeuEewCNHjiguLq7aeFxcnI4cOWJCIgBmMgxDNput2vi2bduq/F44AOD8eV0B7Natm+bPn19tfP78+eratasJiQCYoUWLFgoNDZXNZtMVV1yh0NBQz+JwOHTDDTdwZwAAuEhedxXwnDlzNHjwYK1bt85zD8ANGzaosLBQ77//vsnpANSXuXPnyjAMjRo1StOmTZPD4fCsCwgIUJs2bdS5c2f94x//MDElAPgmryuAffv21Z49e7RgwQLt3r1bkjRs2DCNHj1aM2bM0PXXX29yQgD1ITk5WZIUGxur3r17y9+/+nTlcrnqOxYANAhedxHIuWzbtk3du3dXRUWF2VE8OIkUqHvvv/++/Pz8NHDgwCrja9asUVlZmW677Taf2waZOwBzsQ164TmAAHC2yZMn1/gPP8Mw9Oijj9Z/IABoACiAALza3r171alTp2rjcXFx+uqrr0xIBAC+jwIIwKs5HI4ai96+ffvUtGlTExIBgO/zmotAhg0b9rPrS0tL6ycIAK8yZMgQTZw4UStWrFDbtm0lnS5/999/vwYNGqSXX37Z5IQA4Hu8Zg+gw+H42aV169b605/+ZHZMAPVszpw5CgoKUlxcnGJjYxUbG6uOHTsqLCxMM2bMMDseAPgkr9kDuHjxYrMjAPBCDodD69ev19q1a7Vt2zYFBgaqa9eu+tWvfsVtYADgInlNAQSAc7HZbBowYIB+9atfyW631/jTcACA8+c1h4ABoCaVlZWaPn26Lr30UjVr1kz79++XJKWnp+ull14yOR0A+CYKIACvNmPGDC1ZskRz5sxRQECAZ7xLly4UQAC4SBRAAF7tpZde0qJFi5SUlCQ/Pz/PeLdu3bRnzx4TkwGA76IAAvBqX3/9tdq1a1dtvLKyUj/88EOdfN4f/vAHhYWFKTAwUFdeeaU+//xzz3rDMDRlyhRFRkYqMDBQiYmJ2rt3b63nAIC6RAEE4NU6deqkTz75pNr4m2++qa5du9bqZ33//ffq3bu3GjdurFWrVuk///mPnnjiCbVo0cLznDlz5mjevHlauHChcnJyFBQUpIEDB6q8vLxWswBAXeIqYABebcqUKUpOTtbXX3+tyspK/etf/1J+fr5eeuklvf7667r11ltr7bNmz56t6OjoKrelio2N9fzZMAzNnTtXjzzyiIYMGSLp9CHq8PBwvfXWWxoxYkStZQGAusQeQABebciQIVq5cqXWrVunoKAgTZkyRbt27dLKlSvVr1+/Wv2sd955Rz179tRvf/tbtWrVSldffbWef/55z/r9+/erqKhIiYmJnjGHw6H4+Hht2LChVrMAQF1iDyAAr/XDDz/o8ccf16hRo7R27dpq62v7RtBfffWVMjMzlZqaqr/+9a/Kzc3Vfffdp4CAACUnJ6uoqEiSFB4eXuV14eHhnnU1cbvdcrvddZYbAC4UewABeC1/f3/NmTOnTi72qEllZaW6d++uxx9/XFdffbVGjx6tu+++WwsXLvxF75uRkVHlpy2jo6NrKTEAXBwKIACv1r9/f2VnZ9fLZ0VGRqpTp05Vxjp27KiCggJJUkREhCSpuLi4ynOKi4s962qSlpYmp9PpWQoLC2s5OQBcGA4BA/BqgwYN0uTJk7Vjxw716NFDQUFBnnXHjx+v1c/q3bu38vPzq4zt2bNHrVu3lnT6gpCIiAhlZWXpqquuknT6cG5OTo7GjBlzzve12+2y2+21mhUAfgkKIACvNnbsWEnSk08+WW1dbf8m8KRJk3Tdddfp8ccf1+9+9ztt2rRJixYt0qJFizyfN3HiRM2YMUPt27dXbGys0tPTFRUVpaFDh9ZqFgCoSxRAAF6tsrLynOtcLpccDketfVavXr20YsUKpaWl6bHHHlNsbKzmzp2rpKQkz3MeeughHTt2TKNHj1Zpaan69Omj1atXq0mTJrWWAwDqms0wDMPsEL7qx//5OJ1OBQcHmx0HaHBOnTqlwMBAbd26VV26dKm23le3QV/NDTQUbINcBOIxa9Ysz+EdAN6hcePGiomJUUVFhdlRAKBBoQBKys3N1XPPPVfrPysF4Jd7+OGH9de//lVHjhwxOwoANBiWPwewrKxMSUlJev755zVjxgyz4wD4ifnz52vfvn2KiopS69atq1wFzJ5BALg4li+AKSkpGjx4sBITE/9nAeRu/kD9+7mra91ut7Zv315/YQCggbB0AVy2bJk2b96s3Nzc83p+RkaGpk2bVsepAJxt6tSp51zncrmUkZFRj2kAoGGwbAEsLCzUhAkTtHbt2vO+fUNaWppSU1M9j10uFz/pBNSTvLw87dq1S5LUuXNnXX311SYnAgDfZdkCmJeXp5KSEnXv3t0zVlFRoY8//ljz58+X2+2Wn59flddwN3+g/pWUlGjEiBH66KOPFBISIkkqLS3Vb37zGz3//PPmhgMAH2XZq4D79++vHTt2aOvWrZ6lZ8+eSkpK0tatW6uVPwDmGD9+vI4ePaovvvhCR44c0ZEjR7Rz5065XC499NBDZscDAJ9k2T2AzZs3r3Zj2aCgIIWFhdV4w1kA5li9erXWrVunjh07esY6deqkBQsWaMCAASYmAwDfZdk9gAB8Q2VlpRo3blxtvHHjxj/7M3EAgHOjAJ7lo48+0ty5c82OAeAs/fr104QJE3To0CHP2Ndff61Jkyapb9++JiYDAN9FAQTg1ebPny+Xy6U2bdqobdu2atu2rWJjY+VyuTRnzhyz4wGAT7LsOYAAfEN0dLQ2b96sdevWaffu3ZKkjh07KjExkZuxA8BFogAC8Ho2m0033HCDbrjhBrOjAECDwCFgAF7pgw8+UKdOnWrcy+d0OtW5c2etX7/ehGQA4PsogAC80ty5c3X33XcrODi42jqHw6F77rlHCxYsMCEZAPg+CiAAr7Rt2zbdeOON51w/YMAAbd26tf4CAUADQgEE4JWKi4trvP/fj/z9/fXtt9/WYyIAaDgogAC80qWXXqqdO3eec/327dsVHh5ej4kAoOGgAALwSjfddJPS09NVXl5ebd2JEyc0derUnz1EDAA4N5thGIbZIXyVy+WSw+GQ0+ms8UR1ABevuLhY3bt3l5+fn8aNG6cOHTpIknbv3q0FCxaooqJC2dnZat++vc9tg8wdgLnYBrkPIAAvFR4ervXr12vMmDFKS0vTj/9WtdlsGjhwoBYsWKCwsDCTUwKAb6IAAvBarVu31vvvv6/vv/9e+/btk2EYat++vVq0aCFJ/BIIAFwkCiAAr9eiRQv16tXL7BgA0GBwEQgAAIDFUAABAAAshgIIAABgMRRAAAAAi6EAAgAAWAwFEAAAwGIogAAAABZDAQQAALAYCiAAAIDFUAABAAAshgIIAABgMRRAAAAAi6EAAgAAWAwFEAAAwGIogAAAABZDAQQAALAYCiAAAIDFUAABAAAshgIIAGc8+uijstlsVZa4uDjP+vLycqWkpCgsLEzNmjXT8OHDVVxcbGJiALg4FEAAOEvnzp11+PBhz/Lpp5961k2aNEkrV67U8uXLlZ2drUOHDmnYsGEmpgWAi+NvdgAA8Cb+/v6KiIioNu50OvXCCy9o6dKl6tevnyRp8eLF6tixozZu3Khrr722vqMCwEVjDyAAnGXv3r2KiorS5ZdfrqSkJBUUFEiS8vLydOrUKSUmJnqeGxcXp5iYGG3YsMGsuABwUdgDCABnxMfHa8mSJerQoYMOHz6sadOm6frrr9fOnTtVVFSkgIAAhYSEVHlNeHi4ioqKfvZ93W633G6357HL5aqL+ABw3iiAAHDGoEGDPH/u2rWr4uPj1bp1a73xxhsKDAy86PfNyMjQtGnTaiMiANQKDgEDwDmEhIToiiuu0L59+xQREaGTJ0+qtLS0ynOKi4trPGfwbGlpaXI6nZ6lsLCwDlMDwP9GAQSAcygrK9OXX36pyMhI9ejRQ40bN1ZWVpZnfX5+vgoKCpSQkPCz72O32xUcHFxlAQAzcQgYAM544IEHdPPNN6t169Y6dOiQpk6dKj8/P91xxx1yOBy68847lZqaqtDQUAUHB2v8+PFKSEjgCmAAPocCCABnHDx4UHfccYe+++47tWzZUn369NHGjRvVsmVLSdJTTz2lRo0aafjw4XK73Ro4cKCeffZZk1MDwIWzGYZhmB3CV7lcLjkcDjmdTg7pACbw1W3QV3MDDQXbIOcAAgAAWA4FEAAAwGIogAAAABZDAQQAALAYCiAAAIDFUAABAAAshgIIAABgMRRAAAAAi6EAAgAAWAwFEAAAwGIogAAAABZDAQQAALAYCiAAAIDFUAABAAAshgIIAABgMRRAAAAAi6EAAgAAWAwFEAAAwGIogAAAABZDAQQAALAYCiAAAIDFWLoAZmRkqFevXmrevLlatWqloUOHKj8/3+xYAAAAdcrSBTA7O1spKSnauHGj1q5dq1OnTmnAgAE6duyY2dEAAADqjL/ZAcy0evXqKo+XLFmiVq1aKS8vT7/61a9MSgUAAFC3LF0Af8rpdEqSQkNDa1zvdrvldrs9j10uV73kAgAAqE2WPgR8tsrKSk2cOFG9e/dWly5danxORkaGHA6HZ4mOjq7nlAAAAL8cBfCMlJQU7dy5U8uWLTvnc9LS0uR0Oj1LYWFhPSYEAACoHRwCljRu3Di9++67+vjjj3XZZZed83l2u112u70ekwEAANQ+SxdAwzA0fvx4rVixQh999JFiY2PNjgQAAFDnLF0AU1JStHTpUr399ttq3ry5ioqKJEkOh0OBgYEmpwMAAKgblj4HMDMzU06nU7/+9a8VGRnpWV5//XWzowEAANQZS+8BNAzD7AgAAAD1ztJ7AAEAAKyIAggAAGAxFEAAAACLoQACAABYDAUQAADAYiiAAAAAFkMBBAAAsBgKIAAAgMVQAAEAACyGAggAAGAxFEAAOIdZs2bJZrNp4sSJnrHy8nKlpKQoLCxMzZo10/Dhw1VcXGxeSAC4CBRAAKhBbm6unnvuOXXt2rXK+KRJk7Ry5UotX75c2dnZOnTokIYNG2ZSSgC4OBRAAPiJsrIyJSUl6fnnn1eLFi08406nUy+88IKefPJJ9evXTz169NDixYu1fv16bdy40cTEAHBhKIAA8BMpKSkaPHiwEhMTq4zn5eXp1KlTVcbj4uIUExOjDRs2nPP93G63XC5XlQUAzORvdgAA8CbLli3T5s2blZubW21dUVGRAgICFBISUmU8PDxcRUVF53zPjIwMTZs2rbajAsBFYw8gAJxRWFioCRMm6NVXX1WTJk1q7X3T0tLkdDo9S2FhYa29NwBcDAogAJyRl5enkpISde/eXf7+/vL391d2drbmzZsnf39/hYeH6+TJkyotLa3yuuLiYkVERJzzfe12u4KDg6ssAGAmDgEDwBn9+/fXjh07qoyNHDlScXFx+stf/qLo6Gg1btxYWVlZGj58uCQpPz9fBQUFSkhIMCMyAFwUCiAAnNG8eXN16dKlylhQUJDCwsI843feeadSU1MVGhqq4OBgjR8/XgkJCbr22mvNiAwAF4UCCAAX4KmnnlKjRo00fPhwud1uDRw4UM8++6zZsQDggtgMwzDMDuGrXC6XHA6HnE4n5/QAJvDVbdBXcwMNBdsgF4EAAABYDgUQAADAYiiAAAAAFkMBBAAAsBgKIAAAgMVQAAEAACyGAggAAGAxFEAAAACLoQACAABYDAUQAADAYiiAAAAAFkMBBAAAsBgKIAAAgMVQAAEAACyGAggAAGAxFEAAAACLoQACAABYDAUQAADAYiiAAAAAFkMBBAAAsBgKIAAAgMVQAAEAACyGAggAAGAxFEAAAACLoQACAABYDAUQAADAYiiAAAAAFkMBBAAAsBgKIAAAgMVQAAEAACyGAggAAGAxFEAAAACLoQACAABYDAUQAADAYiiAAAAAFkMBBAAAsBgKIAAAgMVQAAEAACyGAggAAGAxFEAAAACLoQACAABYDAUQAADAYixfABcsWKA2bdqoSZMmio+P16ZNm8yOBMAkmZmZ6tq1q4KDgxUcHKyEhAStWrXKs768vFwpKSkKCwtTs2bNNHz4cBUXF5uYGAAujqUL4Ouvv67U1FRNnTpVmzdvVrdu3TRw4ECVlJSYHQ2ACS677DLNmjVLeXl5+vzzz9WvXz8NGTJEX3zxhSRp0qRJWrlypZYvX67s7GwdOnRIw4YNMzk1AFw4m2EYhtkhzBIfH69evXpp/vz5kqTKykpFR0dr/Pjxmjx58v98vcvlksPhkNPpVHBwcF3HBfAT9bENhoaG6m9/+5tuu+02tWzZUkuXLtVtt90mSdq9e7c6duyoDRs26Nprr/Wq3ADOjW1Q8jc7gFlOnjypvLw8paWlecYaNWqkxMREbdiwocbXuN1uud1uz2On0ynp9H9IAOrfj9teXfw7tqKiQsuXL9exY8eUkJCgvLw8nTp1SomJiZ7nxMXFKSYm5n8WQOYOwLvU5dzhKyxbAL/99ltVVFQoPDy8ynh4eLh2795d42syMjI0bdq0auPR0dF1khHA+fnuu+/kcDhq5b127NihhIQElZeXq1mzZlqxYoU6deqkrVu3KiAgQCEhIVWeHx4erqKiop99T+YOwDvV5tzhayxbAC9GWlqaUlNTPY9LS0vVunVrFRQU+Mx/QC6XS9HR0SosLPSZ3d5krh++mNnpdComJkahoaG19p4dOnTQ1q1b5XQ69eabbyo5OVnZ2dm/6D2ZO8xB5vrhi5nrYu7wNZYtgJdccon8/PyqXcFXXFysiIiIGl9jt9tlt9urjTscDp/5j/5HP17l6EvIXD98MXOjRrV3PVtAQIDatWsnSerRo4dyc3P19NNP6/bbb9fJkydVWlpaZS/gz80ZP2LuMBeZ64cvZq7NucPXWPabBwQEqEePHsrKyvKMVVZWKisrSwkJCSYmA+BNKisr5Xa71aNHDzVu3LjKnJGfn6+CggLmDAA+x7J7ACUpNTVVycnJ6tmzp6655hrNnTtXx44d08iRI82OBsAEaWlpGjRokGJiYnT06FEtXbpUH330kdasWSOHw6E777xTqampCg0NVXBwsMaPH6+EhIQLugIYALyBpQvg7bffrm+++UZTpkxRUVGRrrrqKq1evbrahSHnYrfbNXXq1BoP7XgrMtcPMteP2s5cUlKiP/3pTzp8+LAcDoe6du2qNWvW6IYbbpAkPfXUU2rUqJGGDx8ut9utgQMH6tlnnzU9d30gc/0gc/3wxcy1zdL3AQQAALAiy54DCAAAYFUUQAAAAIuhAAIAAFgMBRAAAMBiKIAXacGCBWrTpo2aNGmi+Ph4bdq0yexIVXz88ce6+eabFRUVJZvNprfeeqvKesMwNGXKFEVGRiowMFCJiYnau3evOWF1+qeyevXqpebNm6tVq1YaOnSo8vPzqzynvLxcKSkpCgsLU7NmzTR8+PBqN/Kub5mZmeratavnBqgJCQlatWqVZ703Zj7brFmzZLPZNHHiRM+YN2Z+9NFHZbPZqixxcXGe9d6Y+Vy8ee7wtXlD8s25w9fnDck35o6GNG/UBQrgRXj99deVmpqqqVOnavPmzerWrZsGDhyokpISs6N5HDt2TN26ddOCBQtqXD9nzhzNmzdPCxcuVE5OjoKCgjRw4ECVl5fXc9LTsrOzlZKSoo0bN2rt2rU6deqUBgwYoGPHjnmeM2nSJK1cuVLLly9Xdna2Dh06pGHDhpmS90eXXXaZZs2apby8PH3++efq16+fhgwZoi+++MJrM/8oNzdXzz33nLp27Vpl3Fszd+7cWYcPH/Ysn376qWedt2b+KW+fO3xt3pB8c+7w5XlD8q25oyHMG3XGwAW75pprjJSUFM/jiooKIyoqysjIyDAx1blJMlasWOF5XFlZaURERBh/+9vfPGOlpaWG3W43XnvtNRMSVldSUmJIMrKzsw3DOJ2vcePGxvLlyz3P2bVrlyHJ2LBhg1kxa9SiRQvjH//4h1dnPnr0qNG+fXtj7dq1Rt++fY0JEyYYhuG9f89Tp041unXrVuM6b81cE1+aO3xx3jAM3507fGHeMAzfmjsayrxRV9gDeIFOnjypvLw8JSYmesYaNWqkxMREbdiwwcRk52///v0qKiqq8h0cDofi4+O95js4nU5J8vxQd15enk6dOlUlc1xcnGJiYrwmc0VFhZYtW6Zjx44pISHBqzOnpKRo8ODBVbJJ3v33vHfvXkVFRenyyy9XUlKSCgoKJHl35rP5+tzhC/OG5Htzhy/NG5LvzR2+Pm/UJUv/EsjF+Pbbb1VRUVHt10LCw8O1e/duk1JdmKKiIkmq8Tv8uM5MlZWVmjhxonr37q0uXbpIOp05ICBAISEhVZ7rDZl37NihhIQElZeXq1mzZlqxYoU6deqkrVu3emXmZcuWafPmzcrNza22zlv/nuPj47VkyRJ16NBBhw8f1rRp03T99ddr586dXpv5p3x97vD2eUPyrbnD1+YNyffmjoYwb9QlCiC8TkpKinbu3FnlXA1v1qFDB23dulVOp1NvvvmmkpOTlZ2dbXasGhUWFmrChAlau3atmjRpYnac8zZo0CDPn7t27ar4+Hi1bt1ab7zxhgIDA01MBm/iS3OHL80bkm/OHcwbP49DwBfokksukZ+fX7UrhYqLixUREWFSqgvzY05v/A7jxo3Tu+++qw8//FCXXXaZZzwiIkInT55UaWlpled7Q+aAgAC1a9dOPXr0UEZGhrp166ann37aKzPn5eWppKRE3bt3l7+/v/z9/ZWdna158+bJ399f4eHhXpe5JiEhIbriiiu0b98+r/x7romvzx3ePG9Ivjd3+NK8ITWMucMX5426RAG8QAEBAerRo4eysrI8Y5WVlcrKylJCQoKJyc5fbGysIiIiqnwHl8ulnJwc076DYRgaN26cVqxYoQ8++ECxsbFV1vfo0UONGzeukjk/P18FBQVe9/deWVkpt9vtlZn79++vHTt2aOvWrZ6lZ8+eSkpK8vzZ2zLXpKysTF9++aUiIyO98u+5Jr4+d3jjvCE1nLnDm+cNqWHMHb44b9Qps69C8UXLli0z7Ha7sWTJEuM///mPMXr0aCMkJMQoKioyO5rH0aNHjS1bthhbtmwxJBlPPvmksWXLFuPAgQOGYRjGrFmzjJCQEOPtt982tm/fbgwZMsSIjY01Tpw4YUreMWPGGA6Hw/joo4+Mw4cPe5bjx497nnPvvfcaMTExxgcffGB8/vnnRkJCgpGQkGBK3h9NnjzZyM7ONvbv329s377dmDx5smGz2Yx///vfXpv5p86+ks8wvDPz/fffb3z00UfG/v37jc8++8xITEw0LrnkEqOkpMRrM9fE2+cOX5s3DMM3546GMG8YhvfPHQ1l3qgrFMCL9MwzzxgxMTFGQECAcc011xgbN240O1IVH374oSGp2pKcnGwYxulbOqSnpxvh4eGG3W43+vfvb+Tn55uWt6askozFixd7nnPixAlj7NixRosWLYymTZsat956q3H48GHTMhuGYYwaNcpo3bq1ERAQYLRs2dLo37+/ZxI3DO/M/FM/ncS9MfPtt99uREZGGgEBAcall15q3H777ca+ffs8670x87l489zha/OGYfjm3NEQ5g3D8P65oyHNG3XBZhiGUX/7GwEAAGA2zgEEAACwGAogAACAxVAAAQAALIYCCAAAYDEUQAAAAIuhAAIAAFgMBRAAAMBiKIDAebDZbHrrrbfMjgHAxzB3wFtRAOH1/vznP8tms1VbbrzxRrOjAfBizB3AufmbHQA4HzfeeKMWL15cZcxut5uUBoCvYO4AasYeQPgEu92uiIiIKkuLFi0knT7EkpmZqUGDBikwMFCXX3653nzzzSqv37Fjh/r166fAwECFhYVp9OjRKisrq/Kc//u//1Pnzp1lt9sVGRmpcePGVVn/7bff6tZbb1XTpk3Vvn17vfPOO55133//vZKSktSyZUsFBgaqffv21f6nA6D+MXcANaMAokFIT0/X8OHDtW3bNiUlJWnEiBHatWuXJOnYsWMaOHCgWrRoodzcXC1fvlzr1q2rMklnZmYqJSVFo0eP1o4dO/TOO++oXbt2VT5j2rRp+t3vfqft27frpptuUlJSko4cOeL5/P/85z9atWqVdu3apczMTF1yySX19xcA4KIwd8CyDMDLJScnG35+fkZQUFCVZebMmYZhGIYk4957763ymvj4eGPMmDGGYRjGokWLjBYtWhhlZWWe9e+9957RqFEjo6ioyDAMw4iKijIefvjhc2aQZDzyyCOex2VlZYYkY9WqVYZhGMbNN99sjBw5sna+MIBawdwBnBvnAMIn/OY3v1FmZmaVsdDQUM+fExISqqxLSEjQ1q1bJUm7du1St27dFBQU5Fnfu3dvVVZWKj8/XzabTYcOHVL//v1/NkPXrl09fw4KClJwcLBKSkokSWPGjNHw4cO1efNmDRgwQEOHDtV11113Ud8VQO1h7gBqRgGETwgKCqp2WKW2BAYGntfzGjduXOWxzWZTZWWlJGnQoEE6cOCA3n//fa1du1b9+/dXSkqK/v73v9d6XgDnj7kDqBnnAKJB2LhxY7XHHTt2lCR17NhR27Zt07FjxzzrP/vsMzVq1EgdOnRQ8+bN1aZNG2VlZf2iDC1btlRycrJeeeUVzZ07V4sWLfpF7weg7jF3wKrYAwif4Ha7VVRUVGXM39/fc7L08uXL1bNnT/Xp00evvvqqNm3apBdeeEGSlJSUpKlTpyo5OVmPPvqovvnmG40fP15//OMfFR4eLkl69NFHde+996pVq1YaNGiQjh49qs8++0zjx48/r3xTpkxRjx491LlzZ7ndbr377rue/4kAMA9zB1AzCiB8wurVqxUZGVllrEOHDtq9e7ek01fZLVu2TGPHjlVkZKRee+01derUSZLUtGlTrVmzRhMmTFCvXr3UtGlTDR8+XE8++aTnvZKTk1VeXq6nnnpKDzzwgC655BLddttt550vICBAaWlp+u9//6vAwEBdf/31WrZsWS18cwC/BHMHUDObYRiG2SGAX8Jms2nFihUaOnSo2VEA+BDmDlgZ5wACAABYDAUQAADAYjgEDAAAYDHsAQQAALAYCiAAAIDFUAABAAAshgIIAABgMRRAAAAAi6EAAgAAWAwFEAAAwGIogAAAABZDAQQAALCY/wc/ZrGO6fIyGgAAAABJRU5ErkJggg==' width=640.0/>\n",
       "            </div>\n",
       "        "
      ],
      "text/plain": [
       "Canvas(toolbar=Toolbar(toolitems=[('Home', 'Reset original view', 'home', 'home'), ('Back', 'Back to previous …"
      ]
     },
     "metadata": {},
     "output_type": "display_data"
    }
   ],
   "source": [
    "fig, (ax1,ax2) = plt.subplots(1,2)\n",
    "ax1.set_xlabel('Epochs')\n",
    "ax1.set_ylabel('Loss')\n",
    "ax1.set_xlim(0,50)\n",
    "ax1.set_ylim(0,10)\n",
    "\n",
    "ax2.set_xlabel('Epochs')\n",
    "ax2.set_ylabel('Correct percent')\n",
    "ax2.set_xlim(0,50)\n",
    "ax2.set_ylim(30,100)\n",
    "\n",
    "plt.show()"
   ]
  },
  {
   "cell_type": "code",
   "execution_count": 65,
   "id": "a5722fc3-72a2-4f06-b2ca-9c0b8a85d2a4",
   "metadata": {},
   "outputs": [
    {
     "name": "stderr",
     "output_type": "stream",
     "text": [
      "/tmp/ipykernel_19996/3295490525.py:96: RuntimeWarning: overflow encountered in exp\n",
      "  return 1.0 / (1.0 + np.exp(-z))\n"
     ]
    },
    {
     "name": "stdout",
     "output_type": "stream",
     "text": [
      "Epoch 1 completed. Loss: 5.48425\n",
      "Epoch 2 completed. Loss: 4.4934\n",
      "Epoch 3 completed. Loss: 4.1487\n",
      "Epoch 4 completed. Loss: 3.51615\n",
      "Epoch 5 completed. Loss: 3.1848\n",
      "Epoch 6 completed. Loss: 3.00515\n",
      "Epoch 7 completed. Loss: 2.67245\n",
      "Epoch 8 completed. Loss: 2.64175\n",
      "Epoch 9 completed. Loss: 2.48205\n",
      "Epoch 10 completed. Loss: 2.4758\n",
      "Epoch 11 completed. Loss: 2.3257\n",
      "Epoch 12 completed. Loss: 2.2196\n",
      "Epoch 13 completed. Loss: 2.0286\n",
      "Epoch 14 completed. Loss: 1.9947\n",
      "Epoch 15 completed. Loss: 1.6544\n",
      "Epoch 16 completed. Loss: 1.667\n",
      "Epoch 17 completed. Loss: 1.59965\n",
      "Epoch 18 completed. Loss: 1.61835\n",
      "Epoch 19 completed. Loss: 1.5029\n",
      "Epoch 20 completed. Loss: 1.46325\n",
      "Epoch 21 completed. Loss: 1.43805\n",
      "Epoch 22 completed. Loss: 1.48165\n",
      "Epoch 23 completed. Loss: 1.48005\n",
      "Epoch 24 completed. Loss: 1.5324\n",
      "Epoch 25 completed. Loss: 1.4667\n",
      "Epoch 26 completed. Loss: 1.35785\n",
      "Epoch 27 completed. Loss: 1.32905\n",
      "Epoch 28 completed. Loss: 1.3755\n",
      "Epoch 29 completed. Loss: 1.4965\n",
      "Epoch 30 completed. Loss: 1.4679\n"
     ]
    }
   ],
   "source": [
    "net = Network([784, 30, 10])\n",
    "net.SGD(training_set, 30, 10, .05, validation_set = validation_set, lossAxis=ax1, percentAxis=ax2)"
   ]
  },
  {
   "cell_type": "code",
   "execution_count": null,
   "id": "7e3dafc3-a39c-4a91-af04-2170ed4d943c",
   "metadata": {},
   "outputs": [],
   "source": []
  }
 ],
 "metadata": {
  "kernelspec": {
   "display_name": "Python 3 (ipykernel)",
   "language": "python",
   "name": "python3"
  },
  "language_info": {
   "codemirror_mode": {
    "name": "ipython",
    "version": 3
   },
   "file_extension": ".py",
   "mimetype": "text/x-python",
   "name": "python",
   "nbconvert_exporter": "python",
   "pygments_lexer": "ipython3",
   "version": "3.10.16"
  }
 },
 "nbformat": 4,
 "nbformat_minor": 5
}
